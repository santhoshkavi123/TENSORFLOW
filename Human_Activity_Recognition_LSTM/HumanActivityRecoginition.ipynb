{
 "cells": [
  {
   "cell_type": "code",
   "execution_count": 3,
   "id": "8f7d281e",
   "metadata": {},
   "outputs": [],
   "source": [
    "import os\n",
    "import warnings\n",
    "warnings.filterwarnings('ignore')\n",
    "from typing import List, Dict\n",
    "\n",
    "# Import Required libraries\n",
    "import pandas as pd\n",
    "import numpy as np\n",
    "import matplotlib.pyplot as plt\n",
    "import seaborn as sns\n",
    "\n",
    "\n",
    "# sklearn libraries\n",
    "from sklearn.model_selection import train_test_split\n",
    "from sklearn.metrics import (classification_report, \n",
    "                             confusion_matrix)\n",
    "from sklearn.base import (BaseEstimator, \n",
    "                         TransformerMixin)\n",
    "\n",
    "\n",
    "# tensorflow packages\n",
    "import tensorflow as tf\n",
    "from tensorflow.keras.models import Model\n",
    "from tensorflow.keras.utils import to_categorical\n",
    "from tensorflow.keras.optimizers import (Adam, \n",
    "                                         AdamW)\n",
    "from tensorflow.keras.losses import (SparseCategoricalCrossentropy,\n",
    "                                    CategoricalCrossentropy)"
   ]
  },
  {
   "cell_type": "markdown",
   "id": "5f39feea",
   "metadata": {},
   "source": [
    "# Load Dataset\n",
    "\n",
    "The experiments have been carried out with a group of 30 volunteers within an age bracket of 19-48 years. Each person performed six activities (WALKING, WALKING_UPSTAIRS, WALKING_DOWNSTAIRS, SITTING, STANDING, LAYING) wearing a smartphone (Samsung Galaxy S II) on the waist. Using its embedded accelerometer and gyroscope, we captured 3-axial linear acceleration and 3-axial angular velocity at a constant rate of 50Hz.\n",
    "\n",
    "Basically,our objective is to create this dataset\n",
    "\n",
    "- Triaxial acceleration from the accelerometer (total acceleration) and the estimated body acceleration.\n",
    "- Triaxial Angular velocity from the gyroscope. \n",
    "- A 561-feature vector with time and frequency domain variables. \n",
    "- Its activity label. \n",
    "\n",
    "\n"
   ]
  },
  {
   "cell_type": "markdown",
   "id": "6b2f2632",
   "metadata": {},
   "source": [
    "#### Step 1 : Triaxial acceleration from the accelerometer (total acceleration) and the estimated body acceleration"
   ]
  },
  {
   "cell_type": "code",
   "execution_count": null,
   "id": "3041b947",
   "metadata": {},
   "outputs": [],
   "source": [
    "def load_data(filename: str) -> np.ndarray:\n",
    "    data = pd.read_csv(filename, header = None, sep = \"/t\")\n",
    "    return data.to_numpy()\n",
    "\n",
    "\n",
    "def merge_triaxial_into_sarray(path:str, prefix_filename:str = None, type_fil:str = None) -> np.ndarray:\n",
    "    filenames = [os.path.join(path, prefix_filename + \"_\" + axial + \"_\"+ type_fil +\".txt\") for axial in ['x', 'y', 'z']]\n",
    "    \n",
    "    concated_array = np.array([])\n",
    "    for filename in filenames:\n",
    "        if concated_array.shape[0] == 0:\n",
    "            concated_array  = load_data(filename)\n",
    "        else:\n",
    "            concated_array = np.hstack((concated_array, load_data(filename)))\n",
    "\n",
    "    return concated_array\n",
    "\n",
    "\n",
    "train_path = \"./data/UCI_HAR_Dataset/train/InertialSignals/\"\n",
    "\n",
    "# Body Acceleration\n",
    "body_acc = merge_triaxial_into_sarray(path = train_path, \n",
    "                           prefix_filename= \"body_acc\",\n",
    "                           type_fil=\"train\")\n",
    "\n",
    "# Body Gyroscope\n",
    "body_gyro = merge_triaxial_into_sarray(path = train_path, \n",
    "                                       prefix_filename= \"body_gyro\",\n",
    "                                       type_fil=\"train\")\n",
    "\n",
    "# \n",
    "\n",
    "\n",
    "\n"
   ]
  },
  {
   "cell_type": "code",
   "execution_count": 21,
   "id": "623f0124",
   "metadata": {},
   "outputs": [
    {
     "name": "stdout",
     "output_type": "stream",
     "text": [
      "(7352, 3)\n"
     ]
    }
   ],
   "source": [
    "print(body_acc.shape)"
   ]
  },
  {
   "cell_type": "code",
   "execution_count": null,
   "id": "32878d3d",
   "metadata": {},
   "outputs": [],
   "source": []
  }
 ],
 "metadata": {
  "kernelspec": {
   "display_name": "tensorflow_env",
   "language": "python",
   "name": "python3"
  },
  "language_info": {
   "codemirror_mode": {
    "name": "ipython",
    "version": 3
   },
   "file_extension": ".py",
   "mimetype": "text/x-python",
   "name": "python",
   "nbconvert_exporter": "python",
   "pygments_lexer": "ipython3",
   "version": "3.9.6"
  }
 },
 "nbformat": 4,
 "nbformat_minor": 5
}
