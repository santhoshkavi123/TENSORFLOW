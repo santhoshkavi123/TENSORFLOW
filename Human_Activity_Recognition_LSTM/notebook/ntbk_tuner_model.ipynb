{
 "cells": [
  {
   "cell_type": "markdown",
   "id": "928a6e46",
   "metadata": {},
   "source": [
    "# Import Required Packages"
   ]
  },
  {
   "cell_type": "code",
   "execution_count": null,
   "id": "6d3465ce",
   "metadata": {},
   "outputs": [],
   "source": [
    "%%capture\n",
    "!pip install -q -U keras-tuner"
   ]
  },
  {
   "cell_type": "code",
   "execution_count": 5,
   "id": "c03092db",
   "metadata": {},
   "outputs": [],
   "source": [
    "# basic packages\n",
    "import os\n",
    "import numpy as np\n",
    "import matplotlib.pyplot as plt\n",
    "import seaborn as sns\n",
    "\n",
    "#sklearn packages\n",
    "from sklearn.metrics import (confusion_matrix, \n",
    "                             classification_report)\n",
    "\n",
    "# tensorflow packages\n",
    "import tensorflow as tf\n",
    "from tensorflow.keras.models import Model\n",
    "from tensorflow.keras.layers import (Dense, \n",
    "                                     LSTM, \n",
    "                                     BatchNormalization,\n",
    "                                     Input)\n",
    "from tensorflow.keras.optimizers import (Adam, \n",
    "                                         AdamW)\n",
    "from tensorflow.keras.losses import (SparseCategoricalCrossentropy,\n",
    "                                     CategoricalCrossentropy)\n",
    "\n",
    "import keras_tuner as kt"
   ]
  },
  {
   "cell_type": "markdown",
   "id": "7d7870d6",
   "metadata": {},
   "source": [
    "# Load Train, Validation and Testing Numpy Arrays"
   ]
  },
  {
   "cell_type": "code",
   "execution_count": 9,
   "id": "4f745785",
   "metadata": {},
   "outputs": [
    {
     "name": "stdout",
     "output_type": "stream",
     "text": [
      "Shape of X_train : (5881, 128, 9) and y_train : (5881, 6)\n",
      "Shape of X_val : (1471, 128, 9) and y_train : (1471, 6)\n",
      "Shape of X_test : (2947, 128, 9) and y_train : (2947, 6)\n"
     ]
    }
   ],
   "source": [
    "data = np.load(\"../data/processed/processed_array.npz\")\n",
    "\n",
    "X_train, y_train = data[\"x_train\"], data[\"y_train\"]\n",
    "X_val, y_val = data[\"x_val\"], data[\"y_val\"]\n",
    "X_test, y_test = data[\"x_test\"], data[\"y_test\"]\n",
    "\n",
    "print(f\"Shape of X_train : {X_train.shape} and y_train : {y_train.shape}\")\n",
    "print(f\"Shape of X_val : {X_val.shape} and y_train : {y_val.shape}\")\n",
    "print(f\"Shape of X_test : {X_test.shape} and y_train : {y_test.shape}\")"
   ]
  },
  {
   "cell_type": "markdown",
   "id": "6cf19814",
   "metadata": {},
   "source": [
    "# Tensorflow Dataset"
   ]
  },
  {
   "cell_type": "code",
   "execution_count": 13,
   "id": "0e0e8ff3",
   "metadata": {},
   "outputs": [
    {
     "name": "stderr",
     "output_type": "stream",
     "text": [
      "2025-07-01 20:21:48.244280: I metal_plugin/src/device/metal_device.cc:1154] Metal device set to: Apple M3 Pro\n",
      "2025-07-01 20:21:48.244498: I metal_plugin/src/device/metal_device.cc:296] systemMemory: 18.00 GB\n",
      "2025-07-01 20:21:48.244538: I metal_plugin/src/device/metal_device.cc:313] maxCacheSize: 6.00 GB\n",
      "WARNING: All log messages before absl::InitializeLog() is called are written to STDERR\n",
      "I0000 00:00:1751419308.245050  736250 pluggable_device_factory.cc:305] Could not identify NUMA node of platform GPU ID 0, defaulting to 0. Your kernel may not have been built with NUMA support.\n",
      "I0000 00:00:1751419308.245562  736250 pluggable_device_factory.cc:271] Created TensorFlow device (/job:localhost/replica:0/task:0/device:GPU:0 with 0 MB memory) -> physical PluggableDevice (device: 0, name: METAL, pci bus id: <undefined>)\n"
     ]
    }
   ],
   "source": [
    "train_dataset = tf.data.Dataset.from_tensor_slices((X_train, y_train)).batch(64)\n",
    "valid_dataset = tf.data.Dataset.from_tensor_slices((X_val, y_val)).batch(64)"
   ]
  },
  {
   "cell_type": "markdown",
   "id": "60d7aa03",
   "metadata": {},
   "source": [
    "# Keras Tuner Neural Network Architecture"
   ]
  },
  {
   "cell_type": "code",
   "execution_count": null,
   "id": "e96618cd",
   "metadata": {},
   "outputs": [],
   "source": [
    "class tuner_model(Model):\n",
    "\n",
    "    def __init__()"
   ]
  }
 ],
 "metadata": {
  "kernelspec": {
   "display_name": "tensorflow_env",
   "language": "python",
   "name": "python3"
  },
  "language_info": {
   "codemirror_mode": {
    "name": "ipython",
    "version": 3
   },
   "file_extension": ".py",
   "mimetype": "text/x-python",
   "name": "python",
   "nbconvert_exporter": "python",
   "pygments_lexer": "ipython3",
   "version": "3.9.6"
  }
 },
 "nbformat": 4,
 "nbformat_minor": 5
}
