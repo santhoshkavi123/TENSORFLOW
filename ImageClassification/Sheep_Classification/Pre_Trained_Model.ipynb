{
 "cells": [
  {
   "cell_type": "markdown",
   "id": "90922350",
   "metadata": {},
   "source": [
    "# Import Required libraries"
   ]
  },
  {
   "cell_type": "code",
   "execution_count": 10,
   "id": "60a04a35",
   "metadata": {},
   "outputs": [],
   "source": [
    "# Import Basic Packages\n",
    "import os\n",
    "import pandas as pd\n",
    "import numpy as np\n",
    "import matplotlib.pyplot as plt\n",
    "import seaborn as sns\n",
    "from typing import List, Dict\n",
    "import warnings\n",
    "warnings.filterwarnings(\"ignore\")\n",
    "\n",
    "# sklearn packages\n",
    "from sklearn.preprocessing import LabelEncoder\n",
    "from sklearn.model_selection import train_test_split\n",
    "from sklearn.metrics import (classification_report, \n",
    "                             confusion_matrix)\n",
    "\n",
    "# tensorflow packages\n",
    "import tensorflow as tf\n",
    "from tensorflow.keras.applications import Xception\n",
    "from tensorflow.keras.preprocessing.image import ImageDataGenerator\n",
    "from tensorflow.keras.models import Model\n",
    "from tensorflow.keras.layers import (\n",
    "    Input,\n",
    "    Rescaling,\n",
    "    Dense,\n",
    "    Conv2D, \n",
    "    MaxPooling2D, \n",
    "    BatchNormalization, \n",
    "    Flatten\n",
    ")\n",
    "from tensorflow.keras.optimizers import (\n",
    "    Adam, \n",
    "    RMSprop\n",
    ")\n",
    "from tensorflow.keras.losses import (\n",
    "    SparseCategoricalCrossentropy, \n",
    "    CategoricalCrossentropy\n",
    ")\n",
    "from tensorflow.keras.callbacks import (\n",
    "    EarlyStopping, \n",
    "    ModelCheckpoint\n",
    ")"
   ]
  },
  {
   "cell_type": "markdown",
   "id": "6f45c972",
   "metadata": {},
   "source": [
    "# Load the Dataset"
   ]
  },
  {
   "cell_type": "code",
   "execution_count": 2,
   "id": "a760f226",
   "metadata": {},
   "outputs": [],
   "source": [
    "IMAGE_DIR = \"/Users/kavisanthoshkumar/Downloads/Sheep_Classification_Images/\"\n",
    "CSV_PATH = \"/Users/kavisanthoshkumar/Downloads/Sheep_Classification_Images/train_labels.csv\""
   ]
  },
  {
   "cell_type": "code",
   "execution_count": 3,
   "id": "0b558761",
   "metadata": {},
   "outputs": [
    {
     "data": {
      "text/html": [
       "<div>\n",
       "<style scoped>\n",
       "    .dataframe tbody tr th:only-of-type {\n",
       "        vertical-align: middle;\n",
       "    }\n",
       "\n",
       "    .dataframe tbody tr th {\n",
       "        vertical-align: top;\n",
       "    }\n",
       "\n",
       "    .dataframe thead th {\n",
       "        text-align: right;\n",
       "    }\n",
       "</style>\n",
       "<table border=\"1\" class=\"dataframe\">\n",
       "  <thead>\n",
       "    <tr style=\"text-align: right;\">\n",
       "      <th></th>\n",
       "      <th>filename</th>\n",
       "      <th>label</th>\n",
       "      <th>label_Encoded</th>\n",
       "      <th>filepath</th>\n",
       "    </tr>\n",
       "  </thead>\n",
       "  <tbody>\n",
       "    <tr>\n",
       "      <th>0</th>\n",
       "      <td>39d30b68.jpg</td>\n",
       "      <td>Naeimi</td>\n",
       "      <td>3</td>\n",
       "      <td>/Users/kavisanthoshkumar/Downloads/Sheep_Class...</td>\n",
       "    </tr>\n",
       "    <tr>\n",
       "      <th>1</th>\n",
       "      <td>4a9853bd.jpg</td>\n",
       "      <td>Goat</td>\n",
       "      <td>1</td>\n",
       "      <td>/Users/kavisanthoshkumar/Downloads/Sheep_Class...</td>\n",
       "    </tr>\n",
       "    <tr>\n",
       "      <th>2</th>\n",
       "      <td>d88facaa.jpg</td>\n",
       "      <td>Roman</td>\n",
       "      <td>5</td>\n",
       "      <td>/Users/kavisanthoshkumar/Downloads/Sheep_Class...</td>\n",
       "    </tr>\n",
       "    <tr>\n",
       "      <th>3</th>\n",
       "      <td>a3f4f4af.jpg</td>\n",
       "      <td>Roman</td>\n",
       "      <td>5</td>\n",
       "      <td>/Users/kavisanthoshkumar/Downloads/Sheep_Class...</td>\n",
       "    </tr>\n",
       "    <tr>\n",
       "      <th>4</th>\n",
       "      <td>16b31730.jpg</td>\n",
       "      <td>Naeimi</td>\n",
       "      <td>3</td>\n",
       "      <td>/Users/kavisanthoshkumar/Downloads/Sheep_Class...</td>\n",
       "    </tr>\n",
       "  </tbody>\n",
       "</table>\n",
       "</div>"
      ],
      "text/plain": [
       "       filename   label  label_Encoded  \\\n",
       "0  39d30b68.jpg  Naeimi              3   \n",
       "1  4a9853bd.jpg    Goat              1   \n",
       "2  d88facaa.jpg   Roman              5   \n",
       "3  a3f4f4af.jpg   Roman              5   \n",
       "4  16b31730.jpg  Naeimi              3   \n",
       "\n",
       "                                            filepath  \n",
       "0  /Users/kavisanthoshkumar/Downloads/Sheep_Class...  \n",
       "1  /Users/kavisanthoshkumar/Downloads/Sheep_Class...  \n",
       "2  /Users/kavisanthoshkumar/Downloads/Sheep_Class...  \n",
       "3  /Users/kavisanthoshkumar/Downloads/Sheep_Class...  \n",
       "4  /Users/kavisanthoshkumar/Downloads/Sheep_Class...  "
      ]
     },
     "execution_count": 3,
     "metadata": {},
     "output_type": "execute_result"
    }
   ],
   "source": [
    "#### Read the CSV file using pandas\n",
    "label_dataset = pd.read_csv(CSV_PATH)\n",
    "\n",
    "#### Encode the values of the label\n",
    "le = LabelEncoder()\n",
    "le.fit(label_dataset[\"label\"].values)\n",
    "label_dataset[\"label_Encoded\"] = le.transform(label_dataset[\"label\"])\n",
    "\n",
    "#### Build the full Image Paths\n",
    "label_dataset[\"filepath\"] = label_dataset[\"filename\"].apply(lambda x : os.path.join(IMAGE_DIR, x))\n",
    "\n",
    "label_dataset.head(5)"
   ]
  },
  {
   "cell_type": "code",
   "execution_count": 4,
   "id": "ed5f31e9",
   "metadata": {},
   "outputs": [
    {
     "data": {
      "text/html": [
       "<div>\n",
       "<style scoped>\n",
       "    .dataframe tbody tr th:only-of-type {\n",
       "        vertical-align: middle;\n",
       "    }\n",
       "\n",
       "    .dataframe tbody tr th {\n",
       "        vertical-align: top;\n",
       "    }\n",
       "\n",
       "    .dataframe thead th {\n",
       "        text-align: right;\n",
       "    }\n",
       "</style>\n",
       "<table border=\"1\" class=\"dataframe\">\n",
       "  <thead>\n",
       "    <tr style=\"text-align: right;\">\n",
       "      <th></th>\n",
       "      <th>labels</th>\n",
       "      <th>Encoded_labels</th>\n",
       "    </tr>\n",
       "  </thead>\n",
       "  <tbody>\n",
       "    <tr>\n",
       "      <th>0</th>\n",
       "      <td>Barbari</td>\n",
       "      <td>0</td>\n",
       "    </tr>\n",
       "    <tr>\n",
       "      <th>1</th>\n",
       "      <td>Goat</td>\n",
       "      <td>1</td>\n",
       "    </tr>\n",
       "    <tr>\n",
       "      <th>2</th>\n",
       "      <td>Harri</td>\n",
       "      <td>2</td>\n",
       "    </tr>\n",
       "    <tr>\n",
       "      <th>3</th>\n",
       "      <td>Naeimi</td>\n",
       "      <td>3</td>\n",
       "    </tr>\n",
       "    <tr>\n",
       "      <th>4</th>\n",
       "      <td>Najdi</td>\n",
       "      <td>4</td>\n",
       "    </tr>\n",
       "    <tr>\n",
       "      <th>5</th>\n",
       "      <td>Roman</td>\n",
       "      <td>5</td>\n",
       "    </tr>\n",
       "    <tr>\n",
       "      <th>6</th>\n",
       "      <td>Sawakni</td>\n",
       "      <td>6</td>\n",
       "    </tr>\n",
       "  </tbody>\n",
       "</table>\n",
       "</div>"
      ],
      "text/plain": [
       "    labels  Encoded_labels\n",
       "0  Barbari               0\n",
       "1     Goat               1\n",
       "2    Harri               2\n",
       "3   Naeimi               3\n",
       "4    Najdi               4\n",
       "5    Roman               5\n",
       "6  Sawakni               6"
      ]
     },
     "execution_count": 4,
     "metadata": {},
     "output_type": "execute_result"
    }
   ],
   "source": [
    "pd.DataFrame({\"labels\":le.classes_, \"Encoded_labels\":le.transform(le.classes_)})"
   ]
  },
  {
   "cell_type": "markdown",
   "id": "3d3ccc36",
   "metadata": {},
   "source": [
    "# Split the dataset into train and validation"
   ]
  },
  {
   "cell_type": "code",
   "execution_count": 5,
   "id": "13c2cee6",
   "metadata": {},
   "outputs": [
    {
     "name": "stdout",
     "output_type": "stream",
     "text": [
      "Shape of X_train: (545, 4)\n",
      "Shape of X_val: (137, 4)\n"
     ]
    }
   ],
   "source": [
    "X_train, X_val = train_test_split(label_dataset, \n",
    "                 train_size = 0.80, \n",
    "                 stratify= label_dataset['label']) \n",
    "# when we specify the stratify using class labels, then it gets split into stratified fashion\n",
    "\n",
    "print(f\"Shape of X_train: {X_train.shape}\")\n",
    "print(f\"Shape of X_val: {X_val.shape}\")"
   ]
  },
  {
   "cell_type": "code",
   "execution_count": 6,
   "id": "1cdefc96",
   "metadata": {},
   "outputs": [
    {
     "name": "stdout",
     "output_type": "stream",
     "text": [
      "Shape of X_test: (144, 1)\n"
     ]
    }
   ],
   "source": [
    "X_test = pd.DataFrame({\"filename\": os.listdir(IMAGE_DIR+\"test/\")})\n",
    "print(f\"Shape of X_test: {X_test.shape}\")"
   ]
  },
  {
   "cell_type": "markdown",
   "id": "647c03ec",
   "metadata": {},
   "source": [
    "# ImageData Generator"
   ]
  },
  {
   "cell_type": "markdown",
   "id": "1b2d4c53",
   "metadata": {},
   "source": [
    "#### 1. TrainDataGenerator"
   ]
  },
  {
   "cell_type": "code",
   "execution_count": 7,
   "id": "e311020b",
   "metadata": {},
   "outputs": [
    {
     "name": "stdout",
     "output_type": "stream",
     "text": [
      "Found 545 validated image filenames belonging to 7 classes.\n"
     ]
    }
   ],
   "source": [
    "train_datagen = ImageDataGenerator(\n",
    "    rotation_range = 20, \n",
    "    width_shift_range = 0.2, \n",
    "    shear_range = 0.2, \n",
    "    zoom_range = 0.2, \n",
    "    horizontal_flip = True, \n",
    "    vertical_flip = True\n",
    ")\n",
    "\n",
    "# flow from dataframe \n",
    "train_generator = train_datagen.flow_from_dataframe(\n",
    "    dataframe = X_train,\n",
    "    directory = IMAGE_DIR+str(\"train/\"),\n",
    "    x_col = \"filename\",\n",
    "    y_col = \"label\",\n",
    "    class_mode = \"categorical\",\n",
    "    target_size = (224, 224),\n",
    "    batch_size = 32\n",
    ")"
   ]
  },
  {
   "cell_type": "markdown",
   "id": "07d72baa",
   "metadata": {},
   "source": [
    "#### 2. ValidationDataGenerator"
   ]
  },
  {
   "cell_type": "code",
   "execution_count": 8,
   "id": "03f5085d",
   "metadata": {},
   "outputs": [
    {
     "name": "stdout",
     "output_type": "stream",
     "text": [
      "Found 137 validated image filenames belonging to 7 classes.\n"
     ]
    }
   ],
   "source": [
    "validation_datagen = ImageDataGenerator()\n",
    "\n",
    "validation_generator = validation_datagen.flow_from_dataframe(\n",
    "    dataframe = X_val, \n",
    "    directory = IMAGE_DIR+\"train/\",\n",
    "    x_col = \"filename\",\n",
    "    y_col = \"label\",\n",
    "    class_model = \"categorical\",\n",
    "    target_size = (224, 224),\n",
    "    batch_size = 32,\n",
    ")"
   ]
  },
  {
   "cell_type": "markdown",
   "id": "ce18b11d",
   "metadata": {},
   "source": [
    "#### 3. TestDataGenerator"
   ]
  },
  {
   "cell_type": "code",
   "execution_count": 9,
   "id": "6a633be5",
   "metadata": {},
   "outputs": [
    {
     "name": "stdout",
     "output_type": "stream",
     "text": [
      "Found 144 validated image filenames.\n"
     ]
    }
   ],
   "source": [
    "test_datagen = ImageDataGenerator()\n",
    "\n",
    "test_generator = test_datagen.flow_from_dataframe(\n",
    "    dataframe = X_test,\n",
    "    directory = IMAGE_DIR + \"test/\",\n",
    "    x_col = \"filename\",\n",
    "    y_col = None,\n",
    "    class_mode = None,\n",
    "    target_size = (224, 224),\n",
    "    batch_size = 32\n",
    ")"
   ]
  },
  {
   "cell_type": "markdown",
   "id": "0cfbd591",
   "metadata": {},
   "source": [
    "# Xception - Transfer Learning Approach"
   ]
  },
  {
   "cell_type": "code",
   "execution_count": 14,
   "id": "14b64b32",
   "metadata": {},
   "outputs": [],
   "source": [
    "xception_model = Xception(\n",
    "    include_top = False,\n",
    "    weights = None, \n",
    "    classes = 7,\n",
    "    classifier_activation=\"softmax\",\n",
    ")"
   ]
  },
  {
   "cell_type": "code",
   "execution_count": 34,
   "id": "0244ed67",
   "metadata": {},
   "outputs": [],
   "source": [
    "class PreTrainedModel(Model):\n",
    "\n",
    "    def __init__(self, num_classes):\n",
    "        super(PreTrainedModel, self).__init__()\n",
    "        # xception model\n",
    "        self.base_model = xception_model\n",
    "\n",
    "        # Dense layer\n",
    "        self.dense_layer_1 = Dense(units = 128, activation =\"leaky_relu\")\n",
    "        self.dense_layer_2 = Dense(units = 64, activation =\"leaky_relu\")\n",
    "        # Flatten\n",
    "        self.flatten = Flatten()\n",
    "\n",
    "        # Output layer \n",
    "        self.out = Dense(units = num_classes, activation =\"softmax\")\n",
    "\n",
    "    def call(self, inputs):\n",
    "        x = self.base_model(inputs)\n",
    "        \n",
    "        x = self.flatten(x) # flatten layer\n",
    "        \n",
    "        x = self.dense_layer_1(x) # Dense layer 1\n",
    "        x = self.dense_layer_2(x) # Dense layer 2\n",
    "\n",
    "        return self.out(x)\n",
    "    \n",
    "pre_trained_model = PreTrainedModel(num_classes=7)\n"
   ]
  },
  {
   "cell_type": "markdown",
   "id": "6bc68097",
   "metadata": {},
   "source": [
    "#### Compile Model"
   ]
  },
  {
   "cell_type": "code",
   "execution_count": 35,
   "id": "ce8c2e91",
   "metadata": {},
   "outputs": [],
   "source": [
    "pre_trained_model.compile(optimizer= Adam(), \n",
    "                        loss = CategoricalCrossentropy(),\n",
    "                        metrics = ['f1_score'],\n",
    "                        )"
   ]
  },
  {
   "cell_type": "markdown",
   "id": "7a92d10a",
   "metadata": {},
   "source": [
    "#### Callbacks"
   ]
  },
  {
   "cell_type": "code",
   "execution_count": 36,
   "id": "a4e142d0",
   "metadata": {},
   "outputs": [],
   "source": [
    "earlystopping_callback = EarlyStopping(\n",
    "    monitor = \"val_loss\",\n",
    "    patience = 5, \n",
    "    mode = \"min\",\n",
    "    restore_best_weights = True, \n",
    "    verbose = 1\n",
    ")\n",
    "\n",
    "model_check_point_callback = ModelCheckpoint(\n",
    "    filepath = \"./artifacts/pre_trained_model.keras\",\n",
    "    monitor = \"val_loss\",\n",
    "    mode = \"min\",\n",
    "    save_best_only = True, \n",
    ")\n",
    "\n",
    "callbacks = [earlystopping_callback, model_check_point_callback]"
   ]
  },
  {
   "cell_type": "markdown",
   "id": "61d2fd4e",
   "metadata": {},
   "source": [
    "#### Model Training"
   ]
  },
  {
   "cell_type": "code",
   "execution_count": 38,
   "id": "5df24617",
   "metadata": {},
   "outputs": [
    {
     "name": "stdout",
     "output_type": "stream",
     "text": [
      "Epoch 1/20\n",
      "\u001b[1m18/18\u001b[0m \u001b[32m━━━━━━━━━━━━━━━━━━━━\u001b[0m\u001b[37m\u001b[0m \u001b[1m15s\u001b[0m 796ms/step - f1_score: 0.1844 - loss: 1.6197 - val_f1_score: 0.1852 - val_loss: 1.4768\n",
      "Epoch 2/20\n",
      "\u001b[1m18/18\u001b[0m \u001b[32m━━━━━━━━━━━━━━━━━━━━\u001b[0m\u001b[37m\u001b[0m \u001b[1m14s\u001b[0m 744ms/step - f1_score: 0.1419 - loss: 1.7061 - val_f1_score: 0.1830 - val_loss: 1.5118\n",
      "Epoch 3/20\n",
      "\u001b[1m18/18\u001b[0m \u001b[32m━━━━━━━━━━━━━━━━━━━━\u001b[0m\u001b[37m\u001b[0m \u001b[1m15s\u001b[0m 802ms/step - f1_score: 0.1902 - loss: 1.7173 - val_f1_score: 0.2336 - val_loss: 1.4365\n",
      "Epoch 4/20\n",
      "\u001b[1m18/18\u001b[0m \u001b[32m━━━━━━━━━━━━━━━━━━━━\u001b[0m\u001b[37m\u001b[0m \u001b[1m13s\u001b[0m 721ms/step - f1_score: 0.2213 - loss: 1.4813 - val_f1_score: 0.2219 - val_loss: 1.5145\n",
      "Epoch 5/20\n",
      "\u001b[1m18/18\u001b[0m \u001b[32m━━━━━━━━━━━━━━━━━━━━\u001b[0m\u001b[37m\u001b[0m \u001b[1m13s\u001b[0m 741ms/step - f1_score: 0.1915 - loss: 1.5494 - val_f1_score: 0.2509 - val_loss: 1.5292\n",
      "Epoch 6/20\n",
      "\u001b[1m18/18\u001b[0m \u001b[32m━━━━━━━━━━━━━━━━━━━━\u001b[0m\u001b[37m\u001b[0m \u001b[1m14s\u001b[0m 762ms/step - f1_score: 0.2181 - loss: 1.4385 - val_f1_score: 0.2205 - val_loss: 1.5398\n",
      "Epoch 7/20\n",
      "\u001b[1m18/18\u001b[0m \u001b[32m━━━━━━━━━━━━━━━━━━━━\u001b[0m\u001b[37m\u001b[0m \u001b[1m14s\u001b[0m 759ms/step - f1_score: 0.2081 - loss: 1.5613 - val_f1_score: 0.3056 - val_loss: 1.3724\n",
      "Epoch 8/20\n",
      "\u001b[1m18/18\u001b[0m \u001b[32m━━━━━━━━━━━━━━━━━━━━\u001b[0m\u001b[37m\u001b[0m \u001b[1m13s\u001b[0m 733ms/step - f1_score: 0.2890 - loss: 1.4328 - val_f1_score: 0.3298 - val_loss: 1.3807\n",
      "Epoch 9/20\n",
      "\u001b[1m18/18\u001b[0m \u001b[32m━━━━━━━━━━━━━━━━━━━━\u001b[0m\u001b[37m\u001b[0m \u001b[1m14s\u001b[0m 785ms/step - f1_score: 0.2530 - loss: 1.4098 - val_f1_score: 0.3150 - val_loss: 1.3523\n",
      "Epoch 10/20\n",
      "\u001b[1m18/18\u001b[0m \u001b[32m━━━━━━━━━━━━━━━━━━━━\u001b[0m\u001b[37m\u001b[0m \u001b[1m14s\u001b[0m 794ms/step - f1_score: 0.2559 - loss: 1.4228 - val_f1_score: 0.3777 - val_loss: 1.2571\n",
      "Epoch 11/20\n",
      "\u001b[1m18/18\u001b[0m \u001b[32m━━━━━━━━━━━━━━━━━━━━\u001b[0m\u001b[37m\u001b[0m \u001b[1m14s\u001b[0m 792ms/step - f1_score: 0.2762 - loss: 1.3280 - val_f1_score: 0.4624 - val_loss: 1.1232\n",
      "Epoch 12/20\n",
      "\u001b[1m18/18\u001b[0m \u001b[32m━━━━━━━━━━━━━━━━━━━━\u001b[0m\u001b[37m\u001b[0m \u001b[1m13s\u001b[0m 712ms/step - f1_score: 0.3821 - loss: 1.1895 - val_f1_score: 0.3847 - val_loss: 1.2364\n",
      "Epoch 13/20\n",
      "\u001b[1m18/18\u001b[0m \u001b[32m━━━━━━━━━━━━━━━━━━━━\u001b[0m\u001b[37m\u001b[0m \u001b[1m13s\u001b[0m 703ms/step - f1_score: 0.3366 - loss: 1.3476 - val_f1_score: 0.4685 - val_loss: 1.1880\n",
      "Epoch 14/20\n",
      "\u001b[1m18/18\u001b[0m \u001b[32m━━━━━━━━━━━━━━━━━━━━\u001b[0m\u001b[37m\u001b[0m \u001b[1m13s\u001b[0m 701ms/step - f1_score: 0.3367 - loss: 1.3337 - val_f1_score: 0.2962 - val_loss: 1.3488\n",
      "Epoch 15/20\n",
      "\u001b[1m18/18\u001b[0m \u001b[32m━━━━━━━━━━━━━━━━━━━━\u001b[0m\u001b[37m\u001b[0m \u001b[1m13s\u001b[0m 706ms/step - f1_score: 0.3268 - loss: 1.2939 - val_f1_score: 0.4258 - val_loss: 1.3217\n",
      "Epoch 16/20\n",
      "\u001b[1m18/18\u001b[0m \u001b[32m━━━━━━━━━━━━━━━━━━━━\u001b[0m\u001b[37m\u001b[0m \u001b[1m13s\u001b[0m 705ms/step - f1_score: 0.4145 - loss: 1.1956 - val_f1_score: 0.2983 - val_loss: 1.4228\n",
      "Epoch 16: early stopping\n",
      "Restoring model weights from the end of the best epoch: 11.\n"
     ]
    }
   ],
   "source": [
    "history = pre_trained_model.fit(train_generator, \n",
    "                    epochs = 20,\n",
    "                    validation_data = validation_generator,\n",
    "                    callbacks = callbacks)\n"
   ]
  },
  {
   "cell_type": "code",
   "execution_count": 39,
   "id": "34886ef8",
   "metadata": {},
   "outputs": [
    {
     "data": {
      "text/html": [
       "<pre style=\"white-space:pre;overflow-x:auto;line-height:normal;font-family:Menlo,'DejaVu Sans Mono',consolas,'Courier New',monospace\"><span style=\"font-weight: bold\">Model: \"pre_trained_model_5\"</span>\n",
       "</pre>\n"
      ],
      "text/plain": [
       "\u001b[1mModel: \"pre_trained_model_5\"\u001b[0m\n"
      ]
     },
     "metadata": {},
     "output_type": "display_data"
    },
    {
     "data": {
      "text/html": [
       "<pre style=\"white-space:pre;overflow-x:auto;line-height:normal;font-family:Menlo,'DejaVu Sans Mono',consolas,'Courier New',monospace\">┏━━━━━━━━━━━━━━━━━━━━━━━━━━━━━━━━━┳━━━━━━━━━━━━━━━━━━━━━━━━┳━━━━━━━━━━━━━━━┓\n",
       "┃<span style=\"font-weight: bold\"> Layer (type)                    </span>┃<span style=\"font-weight: bold\"> Output Shape           </span>┃<span style=\"font-weight: bold\">       Param # </span>┃\n",
       "┡━━━━━━━━━━━━━━━━━━━━━━━━━━━━━━━━━╇━━━━━━━━━━━━━━━━━━━━━━━━╇━━━━━━━━━━━━━━━┩\n",
       "│ xception (<span style=\"color: #0087ff; text-decoration-color: #0087ff\">Functional</span>)           │ (<span style=\"color: #00d7ff; text-decoration-color: #00d7ff\">None</span>, <span style=\"color: #00d7ff; text-decoration-color: #00d7ff\">None</span>, <span style=\"color: #00d7ff; text-decoration-color: #00d7ff\">None</span>,     │    <span style=\"color: #00af00; text-decoration-color: #00af00\">20,861,480</span> │\n",
       "│                                 │ <span style=\"color: #00af00; text-decoration-color: #00af00\">2048</span>)                  │               │\n",
       "├─────────────────────────────────┼────────────────────────┼───────────────┤\n",
       "│ dense_15 (<span style=\"color: #0087ff; text-decoration-color: #0087ff\">Dense</span>)                │ (<span style=\"color: #00d7ff; text-decoration-color: #00d7ff\">None</span>, <span style=\"color: #00af00; text-decoration-color: #00af00\">128</span>)            │    <span style=\"color: #00af00; text-decoration-color: #00af00\">12,845,184</span> │\n",
       "├─────────────────────────────────┼────────────────────────┼───────────────┤\n",
       "│ dense_16 (<span style=\"color: #0087ff; text-decoration-color: #0087ff\">Dense</span>)                │ (<span style=\"color: #00d7ff; text-decoration-color: #00d7ff\">None</span>, <span style=\"color: #00af00; text-decoration-color: #00af00\">64</span>)             │         <span style=\"color: #00af00; text-decoration-color: #00af00\">8,256</span> │\n",
       "├─────────────────────────────────┼────────────────────────┼───────────────┤\n",
       "│ flatten_3 (<span style=\"color: #0087ff; text-decoration-color: #0087ff\">Flatten</span>)             │ (<span style=\"color: #00d7ff; text-decoration-color: #00d7ff\">None</span>, <span style=\"color: #00af00; text-decoration-color: #00af00\">100352</span>)         │             <span style=\"color: #00af00; text-decoration-color: #00af00\">0</span> │\n",
       "├─────────────────────────────────┼────────────────────────┼───────────────┤\n",
       "│ dense_17 (<span style=\"color: #0087ff; text-decoration-color: #0087ff\">Dense</span>)                │ (<span style=\"color: #00d7ff; text-decoration-color: #00d7ff\">None</span>, <span style=\"color: #00af00; text-decoration-color: #00af00\">7</span>)              │           <span style=\"color: #00af00; text-decoration-color: #00af00\">455</span> │\n",
       "└─────────────────────────────────┴────────────────────────┴───────────────┘\n",
       "</pre>\n"
      ],
      "text/plain": [
       "┏━━━━━━━━━━━━━━━━━━━━━━━━━━━━━━━━━┳━━━━━━━━━━━━━━━━━━━━━━━━┳━━━━━━━━━━━━━━━┓\n",
       "┃\u001b[1m \u001b[0m\u001b[1mLayer (type)                   \u001b[0m\u001b[1m \u001b[0m┃\u001b[1m \u001b[0m\u001b[1mOutput Shape          \u001b[0m\u001b[1m \u001b[0m┃\u001b[1m \u001b[0m\u001b[1m      Param #\u001b[0m\u001b[1m \u001b[0m┃\n",
       "┡━━━━━━━━━━━━━━━━━━━━━━━━━━━━━━━━━╇━━━━━━━━━━━━━━━━━━━━━━━━╇━━━━━━━━━━━━━━━┩\n",
       "│ xception (\u001b[38;5;33mFunctional\u001b[0m)           │ (\u001b[38;5;45mNone\u001b[0m, \u001b[38;5;45mNone\u001b[0m, \u001b[38;5;45mNone\u001b[0m,     │    \u001b[38;5;34m20,861,480\u001b[0m │\n",
       "│                                 │ \u001b[38;5;34m2048\u001b[0m)                  │               │\n",
       "├─────────────────────────────────┼────────────────────────┼───────────────┤\n",
       "│ dense_15 (\u001b[38;5;33mDense\u001b[0m)                │ (\u001b[38;5;45mNone\u001b[0m, \u001b[38;5;34m128\u001b[0m)            │    \u001b[38;5;34m12,845,184\u001b[0m │\n",
       "├─────────────────────────────────┼────────────────────────┼───────────────┤\n",
       "│ dense_16 (\u001b[38;5;33mDense\u001b[0m)                │ (\u001b[38;5;45mNone\u001b[0m, \u001b[38;5;34m64\u001b[0m)             │         \u001b[38;5;34m8,256\u001b[0m │\n",
       "├─────────────────────────────────┼────────────────────────┼───────────────┤\n",
       "│ flatten_3 (\u001b[38;5;33mFlatten\u001b[0m)             │ (\u001b[38;5;45mNone\u001b[0m, \u001b[38;5;34m100352\u001b[0m)         │             \u001b[38;5;34m0\u001b[0m │\n",
       "├─────────────────────────────────┼────────────────────────┼───────────────┤\n",
       "│ dense_17 (\u001b[38;5;33mDense\u001b[0m)                │ (\u001b[38;5;45mNone\u001b[0m, \u001b[38;5;34m7\u001b[0m)              │           \u001b[38;5;34m455\u001b[0m │\n",
       "└─────────────────────────────────┴────────────────────────┴───────────────┘\n"
      ]
     },
     "metadata": {},
     "output_type": "display_data"
    },
    {
     "data": {
      "text/html": [
       "<pre style=\"white-space:pre;overflow-x:auto;line-height:normal;font-family:Menlo,'DejaVu Sans Mono',consolas,'Courier New',monospace\"><span style=\"font-weight: bold\"> Total params: </span><span style=\"color: #00af00; text-decoration-color: #00af00\">101,037,071</span> (385.43 MB)\n",
       "</pre>\n"
      ],
      "text/plain": [
       "\u001b[1m Total params: \u001b[0m\u001b[38;5;34m101,037,071\u001b[0m (385.43 MB)\n"
      ]
     },
     "metadata": {},
     "output_type": "display_data"
    },
    {
     "data": {
      "text/html": [
       "<pre style=\"white-space:pre;overflow-x:auto;line-height:normal;font-family:Menlo,'DejaVu Sans Mono',consolas,'Courier New',monospace\"><span style=\"font-weight: bold\"> Trainable params: </span><span style=\"color: #00af00; text-decoration-color: #00af00\">33,660,847</span> (128.41 MB)\n",
       "</pre>\n"
      ],
      "text/plain": [
       "\u001b[1m Trainable params: \u001b[0m\u001b[38;5;34m33,660,847\u001b[0m (128.41 MB)\n"
      ]
     },
     "metadata": {},
     "output_type": "display_data"
    },
    {
     "data": {
      "text/html": [
       "<pre style=\"white-space:pre;overflow-x:auto;line-height:normal;font-family:Menlo,'DejaVu Sans Mono',consolas,'Courier New',monospace\"><span style=\"font-weight: bold\"> Non-trainable params: </span><span style=\"color: #00af00; text-decoration-color: #00af00\">54,528</span> (213.00 KB)\n",
       "</pre>\n"
      ],
      "text/plain": [
       "\u001b[1m Non-trainable params: \u001b[0m\u001b[38;5;34m54,528\u001b[0m (213.00 KB)\n"
      ]
     },
     "metadata": {},
     "output_type": "display_data"
    },
    {
     "data": {
      "text/html": [
       "<pre style=\"white-space:pre;overflow-x:auto;line-height:normal;font-family:Menlo,'DejaVu Sans Mono',consolas,'Courier New',monospace\"><span style=\"font-weight: bold\"> Optimizer params: </span><span style=\"color: #00af00; text-decoration-color: #00af00\">67,321,696</span> (256.81 MB)\n",
       "</pre>\n"
      ],
      "text/plain": [
       "\u001b[1m Optimizer params: \u001b[0m\u001b[38;5;34m67,321,696\u001b[0m (256.81 MB)\n"
      ]
     },
     "metadata": {},
     "output_type": "display_data"
    }
   ],
   "source": [
    "pre_trained_model.summary()"
   ]
  },
  {
   "cell_type": "markdown",
   "id": "7482dea5",
   "metadata": {},
   "source": [
    "#### Model loss"
   ]
  },
  {
   "cell_type": "code",
   "execution_count": 40,
   "id": "d459c0b9",
   "metadata": {},
   "outputs": [
    {
     "data": {
      "image/png": "[encoded data removed]",
      "text/plain": [
       "<Figure size 1500x500 with 1 Axes>"
      ]
     },
     "metadata": {},
     "output_type": "display_data"
    }
   ],
   "source": [
    "plt.figure(figsize= (15, 5))\n",
    "plt.plot(history.history[\"loss\"], 'o-',label = \"Training_Loss\")\n",
    "plt.plot(history.history[\"val_loss\"], 'o-',label = \"Validation_Loss\")\n",
    "plt.title(\"Training and Validation loss\")\n",
    "plt.legend()\n",
    "plt.show()"
   ]
  },
  {
   "cell_type": "markdown",
   "id": "f3bad397",
   "metadata": {},
   "source": [
    "#### Predictions"
   ]
  },
  {
   "cell_type": "code",
   "execution_count": 41,
   "id": "63dbe75e",
   "metadata": {},
   "outputs": [],
   "source": [
    "# Generating Predictions \n",
    "predictions = pre_trained_model.predict(test_generator, verbose = 0)\n",
    "predictions = np.argmax(predictions, axis = 1)\n",
    "\n",
    "# Submission format\n",
    "X_test[\"label\"] = predictions\n",
    "class_indices = {v:k for k, v in train_generator.class_indices.items()}\n",
    "X_test[\"label\"] = X_test[\"label\"].map(class_indices)"
   ]
  },
  {
   "cell_type": "code",
   "execution_count": 43,
   "id": "df07bfa1",
   "metadata": {},
   "outputs": [],
   "source": [
    "X_test.to_csv(\"./data/output/Submission_PreTrained_Xception.csv\",index = False)"
   ]
  },
  {
   "cell_type": "code",
   "execution_count": null,
   "id": "c1d6883c",
   "metadata": {},
   "outputs": [],
   "source": []
  }
 ],
 "metadata": {
  "kernelspec": {
   "display_name": "tensorflow_env",
   "language": "python",
   "name": "python3"
  },
  "language_info": {
   "codemirror_mode": {
    "name": "ipython",
    "version": 3
   },
   "file_extension": ".py",
   "mimetype": "text/x-python",
   "name": "python",
   "nbconvert_exporter": "python",
   "pygments_lexer": "ipython3",
   "version": "3.9.6"
  }
 },
 "nbformat": 4,
 "nbformat_minor": 5
}
