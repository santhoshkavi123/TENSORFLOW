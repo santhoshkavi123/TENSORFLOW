{
 "cells": [
  {
   "cell_type": "markdown",
   "id": "67bde30a",
   "metadata": {},
   "source": [
    "# Text Summarization\n",
    "\n",
    "- Text summarization condenses one or more texts into shorter summaries for enhanced information extraction\n",
    "\n",
    "- They are two principles types of summarization: extractive and abstractive\n",
    "\n",
    "\n",
    "## Extractive Summarization\n",
    "\n",
    "-  As with other NLP Tasks, text summarization requires text first undergo processing, this includes tokenization, stopwords removal, and stemming or lemmatization. After pre-processing, all extractive text summarization methods follows three general, independent steps: representation, sentence scoring and sentence selection. \n",
    "\n",
    "- Representation : Mostly, Bag of Words models which represent text segments - such as words or sentences - as datapoints in a vector space. We can also use Word Embeddings here, but previous statements says the mostly commonly used approach.\n",
    "\n",
    "- Sentence Scoring : For Sentence Scoring we can use Topic Modelling tools such as latent sematic analysis (LSA) are another representation method that produce groups of summary keyowrds weighted across documents. "
   ]
  },
  {
   "cell_type": "code",
   "execution_count": null,
   "id": "13d86a47",
   "metadata": {},
   "outputs": [],
   "source": [
    "# Import Basic libraries\n",
    "import pandas as pd\n",
    "import numpy as np\n",
    "import matplotlib.pyplot as plt\n",
    "import seaborn as sns\n",
    "\n",
    "# sklearn packages\n",
    "from sklearn.model_selection import train_test_split\n",
    "\n",
    "\n",
    "# tensorflow packages\n",
    "import tensorflow as tf\n",
    "from tensorflow.keras.models import Model\n",
    "from tensorflow.keras.layers import (Input, \n",
    "                                     Dense,\n",
    "                                     LSTM)\n",
    "from tensorflow.keras."
   ]
  }
 ],
 "metadata": {
  "language_info": {
   "name": "python"
  }
 },
 "nbformat": 4,
 "nbformat_minor": 5
}
