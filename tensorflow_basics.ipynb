{
 "cells": [
  {
   "cell_type": "markdown",
   "id": "b92f5a8c",
   "metadata": {},
   "source": [
    "# Import Required libraries"
   ]
  },
  {
   "cell_type": "code",
   "execution_count": 6,
   "id": "127c443d",
   "metadata": {},
   "outputs": [],
   "source": [
    "import pandas as pd\n",
    "import numpy as np\n",
    "\n",
    "import matplotlib.pyplot as plt\n",
    "import seaborn as sns\n",
    "\n",
    "import warnings\n",
    "warnings.filterwarnings('ignore')\n",
    "\n",
    "import tensorflow as tf"
   ]
  },
  {
   "cell_type": "code",
   "execution_count": 10,
   "id": "f8afba74",
   "metadata": {},
   "outputs": [
    {
     "name": "stdout",
     "output_type": "stream",
     "text": [
      "tf.Tensor(\n",
      "[[1. 2. 3.]\n",
      " [4. 5. 6.]], shape=(2, 3), dtype=float32)\n",
      "(2, 3)\n",
      "<dtype: 'float32'>\n"
     ]
    }
   ],
   "source": [
    "x = tf.constant([[1.0, 2.0, 3.0],\n",
    "                 [4.0, 5.0, 6.0]])\n",
    "\n",
    "print(x)\n",
    "print(x.shape)\n",
    "print(x.dtype)"
   ]
  },
  {
   "cell_type": "code",
   "execution_count": 8,
   "id": "3fac4afa",
   "metadata": {},
   "outputs": [
    {
     "name": "stdout",
     "output_type": "stream",
     "text": [
      "tf.Tensor(\n",
      "[[3. 4. 5.]\n",
      " [6. 7. 8.]], shape=(2, 3), dtype=float32)\n",
      "(2, 3)\n",
      "<dtype: 'float32'>\n"
     ]
    }
   ],
   "source": [
    "y = tf.constant([[3., 4., 5.],\n",
    "                 [6., 7., 8.]])\n",
    "print(y)\n",
    "print(y.shape)\n",
    "print(y.dtype)"
   ]
  },
  {
   "cell_type": "code",
   "execution_count": 15,
   "id": "28ff0212",
   "metadata": {},
   "outputs": [
    {
     "name": "stdout",
     "output_type": "stream",
     "text": [
      "Multiplication: \n",
      " tf.Tensor(\n",
      "[[ 3.  8. 15.]\n",
      " [24. 35. 48.]], shape=(2, 3), dtype=float32)\n",
      "Addition: \n",
      " tf.Tensor(\n",
      "[[ 4.  6.  8.]\n",
      " [10. 12. 14.]], shape=(2, 3), dtype=float32)\n",
      "Divison: \n",
      " tf.Tensor(\n",
      "[[0.33333334 0.5        0.6       ]\n",
      " [0.6666667  0.71428573 0.75      ]], shape=(2, 3), dtype=float32)\n"
     ]
    }
   ],
   "source": [
    "# Point-Wise Multiplication, Addition, Division\n",
    "print(\"Multiplication: \\n\", x * y)\n",
    "print(\"Addition: \\n\",x + y)\n",
    "print(\"Divison: \\n\",x / y)"
   ]
  },
  {
   "cell_type": "code",
   "execution_count": null,
   "id": "1af451ae",
   "metadata": {},
   "outputs": [],
   "source": []
  }
 ],
 "metadata": {
  "kernelspec": {
   "display_name": "tensorflow_env",
   "language": "python",
   "name": "python3"
  },
  "language_info": {
   "codemirror_mode": {
    "name": "ipython",
    "version": 3
   },
   "file_extension": ".py",
   "mimetype": "text/x-python",
   "name": "python",
   "nbconvert_exporter": "python",
   "pygments_lexer": "ipython3",
   "version": "3.9.6"
  }
 },
 "nbformat": 4,
 "nbformat_minor": 5
}
