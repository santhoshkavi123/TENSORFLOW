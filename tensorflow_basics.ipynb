{
 "cells": [
  {
   "cell_type": "markdown",
   "id": "b92f5a8c",
   "metadata": {},
   "source": [
    "# Import Required libraries"
   ]
  },
  {
   "cell_type": "code",
   "execution_count": 6,
   "id": "127c443d",
   "metadata": {},
   "outputs": [],
   "source": [
    "import pandas as pd\n",
    "import numpy as np\n",
    "\n",
    "import matplotlib.pyplot as plt\n",
    "import seaborn as sns\n",
    "\n",
    "import warnings\n",
    "warnings.filterwarnings('ignore')\n",
    "\n",
    "import tensorflow as tf"
   ]
  },
  {
   "cell_type": "code",
   "execution_count": 10,
   "id": "f8afba74",
   "metadata": {},
   "outputs": [
    {
     "name": "stdout",
     "output_type": "stream",
     "text": [
      "tf.Tensor(\n",
      "[[1. 2. 3.]\n",
      " [4. 5. 6.]], shape=(2, 3), dtype=float32)\n",
      "(2, 3)\n",
      "<dtype: 'float32'>\n"
     ]
    }
   ],
   "source": [
    "x = tf.constant([[1.0, 2.0, 3.0],\n",
    "                 [4.0, 5.0, 6.0]])\n",
    "\n",
    "print(x)\n",
    "print(x.shape)\n",
    "print(x.dtype)"
   ]
  },
  {
   "cell_type": "code",
   "execution_count": 8,
   "id": "3fac4afa",
   "metadata": {},
   "outputs": [
    {
     "name": "stdout",
     "output_type": "stream",
     "text": [
      "tf.Tensor(\n",
      "[[3. 4. 5.]\n",
      " [6. 7. 8.]], shape=(2, 3), dtype=float32)\n",
      "(2, 3)\n",
      "<dtype: 'float32'>\n"
     ]
    }
   ],
   "source": [
    "y = tf.constant([[3., 4., 5.],\n",
    "                 [6., 7., 8.]])\n",
    "print(y)\n",
    "print(y.shape)\n",
    "print(y.dtype)"
   ]
  },
  {
   "cell_type": "markdown",
   "id": "5f964dd9",
   "metadata": {},
   "source": [
    "#### 1. Element-Wise Multiplication, Addition, Division"
   ]
  },
  {
   "cell_type": "code",
   "execution_count": 34,
   "id": "28ff0212",
   "metadata": {},
   "outputs": [
    {
     "name": "stdout",
     "output_type": "stream",
     "text": [
      "Multiplication: \n",
      " tf.Tensor(\n",
      "[[ 3.  8. 15.]\n",
      " [24. 35. 48.]], shape=(2, 3), dtype=float32)\n",
      "********************************************************************************************************************************************************************************************************\n",
      "Addition: \n",
      " tf.Tensor(\n",
      "[[ 4.  6.  8.]\n",
      " [10. 12. 14.]], shape=(2, 3), dtype=float32)\n",
      "********************************************************************************************************************************************************************************************************\n",
      "Divison: \n",
      " tf.Tensor(\n",
      "[[0.33333334 0.5        0.6       ]\n",
      " [0.6666667  0.71428573 0.75      ]], shape=(2, 3), dtype=float32)\n",
      "********************************************************************************************************************************************************************************************************\n",
      "Maximum: \n",
      " tf.Tensor(\n",
      "[[3. 4. 5.]\n",
      " [6. 7. 8.]], shape=(2, 3), dtype=float32)\n",
      "********************************************************************************************************************************************************************************************************\n",
      "Minimum: \n",
      " tf.Tensor(\n",
      "[[1. 2. 3.]\n",
      " [4. 5. 6.]], shape=(2, 3), dtype=float32)\n",
      "********************************************************************************************************************************************************************************************************\n",
      "Exponential: \n",
      " tf.Tensor(\n",
      "[[  2.718282   7.389056  20.085537]\n",
      " [ 54.598152 148.41316  403.4288  ]], shape=(2, 3), dtype=float32)\n"
     ]
    }
   ],
   "source": [
    "print(\"Multiplication: \\n\", x * y)\n",
    "print(\"*\" * 200)\n",
    "print(\"Addition: \\n\",x + y)\n",
    "print(\"*\" * 200)\n",
    "print(\"Divison: \\n\",x / y)\n",
    "print(\"*\" * 200)\n",
    "print(\"Maximum: \\n\", tf.maximum(x, y))\n",
    "print(\"*\" * 200)\n",
    "print(\"Minimum: \\n\", tf.minimum(x, y))\n",
    "print(\"*\" * 200)\n",
    "print(\"Exponential: \\n\", tf.exp(x))"
   ]
  },
  {
   "cell_type": "markdown",
   "id": "1af451ae",
   "metadata": {},
   "source": [
    "#### 2. Transpose"
   ]
  },
  {
   "cell_type": "code",
   "execution_count": null,
   "id": "7f87e234",
   "metadata": {},
   "outputs": [
    {
     "data": {
      "text/plain": [
       "<tf.Tensor: shape=(3, 2), dtype=float32, numpy=\n",
       "array([[1., 4.],\n",
       "       [2., 5.],\n",
       "       [3., 6.]], dtype=float32)>"
      ]
     },
     "execution_count": 20,
     "metadata": {},
     "output_type": "execute_result"
    }
   ],
   "source": [
    "tf.transpose(x) "
   ]
  },
  {
   "cell_type": "markdown",
   "id": "9f16d569",
   "metadata": {},
   "source": [
    "#### 3. Slicing"
   ]
  },
  {
   "cell_type": "code",
   "execution_count": 29,
   "id": "b70e631a",
   "metadata": {},
   "outputs": [
    {
     "name": "stdout",
     "output_type": "stream",
     "text": [
      "Slicing : \n",
      " tf.Tensor(\n",
      "[[1. 2.]\n",
      " [4. 5.]], shape=(2, 2), dtype=float32)\n"
     ]
    }
   ],
   "source": [
    "print(\"Slicing : \\n\", tf.concat([x, x], axis = 0)[0:2, 0:2])"
   ]
  },
  {
   "cell_type": "markdown",
   "id": "bf05ed8e",
   "metadata": {},
   "source": [
    "#### 4. Softmax"
   ]
  },
  {
   "cell_type": "code",
   "execution_count": 30,
   "id": "1ceca3de",
   "metadata": {},
   "outputs": [
    {
     "data": {
      "text/plain": [
       "<tf.Tensor: shape=(2, 3), dtype=float32, numpy=\n",
       "array([[0.09003057, 0.24472846, 0.6652409 ],\n",
       "       [0.09003057, 0.24472846, 0.6652409 ]], dtype=float32)>"
      ]
     },
     "execution_count": 30,
     "metadata": {},
     "output_type": "execute_result"
    }
   ],
   "source": [
    "tf.nn.softmax(x)"
   ]
  },
  {
   "cell_type": "markdown",
   "id": "e2ff05b4",
   "metadata": {},
   "source": [
    "#### 5. Tensorflow math operations"
   ]
  },
  {
   "cell_type": "code",
   "execution_count": 35,
   "id": "6581698c",
   "metadata": {},
   "outputs": [
    {
     "data": {
      "text/plain": [
       "<tf.Tensor: shape=(2,), dtype=float32, numpy=array([ 6., 15.], dtype=float32)>"
      ]
     },
     "execution_count": 35,
     "metadata": {},
     "output_type": "execute_result"
    }
   ],
   "source": [
    "tf.reduce_sum(x, axis = 1)"
   ]
  },
  {
   "cell_type": "markdown",
   "id": "c85087a6",
   "metadata": {},
   "source": []
  }
 ],
 "metadata": {
  "kernelspec": {
   "display_name": "tensorflow_env",
   "language": "python",
   "name": "python3"
  },
  "language_info": {
   "codemirror_mode": {
    "name": "ipython",
    "version": 3
   },
   "file_extension": ".py",
   "mimetype": "text/x-python",
   "name": "python",
   "nbconvert_exporter": "python",
   "pygments_lexer": "ipython3",
   "version": "3.9.6"
  }
 },
 "nbformat": 4,
 "nbformat_minor": 5
}
